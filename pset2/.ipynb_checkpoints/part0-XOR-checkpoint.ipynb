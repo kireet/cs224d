{
 "cells": [
  {
   "cell_type": "markdown",
   "metadata": {},
   "source": [
    "# CS 224D Assignment #2\n",
    "# Part [0]: Warmup: Boolean Logic\n",
    "\n",
    "To appreciate the power of neural networks to learn complex patterns, it can help to revisit a classic example. It is well-known that a single linear classifier cannot represent the XOR function $x \\oplus y$, depicted below*: there is no way to draw a single line that can separate the red and magenta (square) points from the blue and cyan (circle) points.\n",
    "\n",
    "*Gaussian noise is added to make the point clouds more illustrative; however, you can perform your analysis as if all points were truly boolean variables $(x,y) \\in \\{0,1\\}^2$."
   ]
  },
  {
   "cell_type": "code",
   "execution_count": 1,
   "metadata": {
    "collapsed": true
   },
   "outputs": [],
   "source": [
    "from numpy import *\n",
    "from matplotlib.pyplot import *\n",
    "%matplotlib inline\n",
    "matplotlib.rcParams['savefig.dpi'] = 100\n",
    "\n",
    "%load_ext autoreload\n",
    "%autoreload 2"
   ]
  },
  {
   "cell_type": "code",
   "execution_count": 2,
   "metadata": {
    "collapsed": true
   },
   "outputs": [],
   "source": [
    "colors = 'rbcm'\n",
    "markers = 'soos'\n",
    "def show_pts(data):\n",
    "    for i in range(4):\n",
    "        idx = (arange(npts) % 4 == i)\n",
    "        plot(data[0,idx], data[1,idx], \n",
    "             marker=markers[i], linestyle='.',\n",
    "             color=colors[i], alpha=0.5)\n",
    "    gca().set_aspect('equal')\n",
    "\n",
    "def show_pts_1d(data):\n",
    "    for i in range(4):\n",
    "        idx = (arange(npts) % 4 == i)\n",
    "        plot(data[idx], marker=markers[i], linestyle='.',\n",
    "             color=colors[i], alpha=0.5)\n",
    "    gca().set_aspect(npts/4.0)\n",
    "    \n",
    "#### Copy in your implementation from Assignment #1 ####\n",
    "def sigmoid(x):\n",
    "    return 0 # dummy\n",
    "#### or if the starter code is posted, uncomment the line below ####\n",
    "# from nn.math import sigmoid"
   ]
  },
  {
   "cell_type": "code",
   "execution_count": 3,
   "metadata": {
    "collapsed": false
   },
   "outputs": [
    {
     "data": {
      "text/plain": [
       "<matplotlib.text.Text at 0x10da3b5d0>"
      ]
     },
     "execution_count": 3,
     "metadata": {},
     "output_type": "execute_result"
    },
    {
     "data": {
      "image/png": "[encoded data removed]",
      "text/plain": [
       "<matplotlib.figure.Figure at 0x10da23c90>"
      ]
     },
     "metadata": {},
     "output_type": "display_data"
    }
   ],
   "source": [
    "npts = 4 * 40; random.seed(10)\n",
    "x = random.randn(npts)*0.1 + array([i & 1 for i in range(npts)])\n",
    "y = random.randn(npts)*0.1 + array([(i & 2) >> 1 for i in range(npts)])\n",
    "data = vstack([x,y])\n",
    "figure(figsize=(4,4)); show_pts(data); ylim(-0.5, 1.5); xlim(-0.5, 1.5)\n",
    "xlabel(\"x\"); ylabel(\"y\"); title(\"Input Data\")"
   ]
  },
  {
   "cell_type": "markdown",
   "metadata": {},
   "source": [
    "A two-layer neural network, however, can separate this pattern easily. Below, we give you a simple dataset in two dimensions that represents a noisy version of the XOR pattern. Your task is to hand-pick weights for a *very* simple two-layer network, such that it can separate the red/magenta points from the blue/cyan points.\n",
    "\n",
    "The network uses the following equations, for $W \\in \\mathbb{R}^{2\\times2}$ and $U \\in \\mathbb{R}^{2}$:\n",
    "\n",
    "$$ h = \\sigma(z\\cdot(Wx + b_1)) $$\n",
    "$$ p = \\sigma(z\\cdot(Uh + b_2)) $$\n",
    "\n",
    "where $z$ controls how steep the sigmoid function is; higher values make it approach a step function."
   ]
  },
  {
   "cell_type": "code",
   "execution_count": 4,
   "metadata": {
    "collapsed": false
   },
   "outputs": [],
   "source": [
    "x = linspace(-1, 1, 100); figure(figsize=(4,3))\n",
    "plot(x, sigmoid(x), 'k', label=\"$\\sigma(x)$\"); \n",
    "plot(x, sigmoid(5*x), 'b', label=\"$\\sigma(5x)$\");\n",
    "plot(x, sigmoid(15*x), 'g', label=\"$\\sigma(15x)$\");\n",
    "legend(loc='upper left'); xlabel('x');"
   ]
  },
  {
   "cell_type": "markdown",
   "metadata": {},
   "source": [
    "In the area below, enter values for $W$, $b_1$, $U$, and $b_2$ that will properly place blue and cyan above the dashed line, and red and magenta below.\n",
    "\n",
    "*Hint:* think about how you can make the data linearly separable after going through the hidden layer. Then find a direction $U$ along which you can separate it!\n",
    "\n",
    "*Hint:* It may help to think about each \"neuron\" (i.e. row of $W$ or $U$) separately."
   ]
  },
  {
   "cell_type": "code",
   "execution_count": 5,
   "metadata": {
    "collapsed": false
   },
   "outputs": [],
   "source": [
    "W = zeros((2,2))\n",
    "b1 = zeros((2,1))\n",
    "U = zeros(2)\n",
    "b2 = 0\n",
    "\n",
    "#### YOUR CODE HERE ####\n",
    "\n",
    "\n",
    "z = 5 # control gate steepness\n",
    "\n",
    "#### END YOUR CODE ####\n",
    "\n",
    "# Feed-forward computation\n",
    "h = sigmoid(z*(W.dot(data) + b1))\n",
    "p = sigmoid(z*(U.dot(h) + b2))\n",
    "\n",
    "# Plot hidden layer\n",
    "subplot(1,2,1); show_pts(h)\n",
    "title(\"Hidden Layer\"); xlabel(\"$h_1$\"); ylabel(\"$h_2$\")\n",
    "ylim(-0.1, 1.1); xlim(-0.1, 1.1)\n",
    "# Plot predictions\n",
    "subplot(1,2,2); show_pts_1d(p)\n",
    "title(\"Output\"); ylabel(\"Prediction\"); xticks([])\n",
    "axhline(0.5, linestyle='--', color='k')\n",
    "tight_layout()"
   ]
  },
  {
   "cell_type": "code",
   "execution_count": null,
   "metadata": {
    "collapsed": true
   },
   "outputs": [],
   "source": []
  }
 ],
 "metadata": {
  "kernelspec": {
   "display_name": "Python 2",
   "language": "python",
   "name": "python2"
  },
  "language_info": {
   "codemirror_mode": {
    "name": "ipython",
    "version": 2
   },
   "file_extension": ".py",
   "mimetype": "text/x-python",
   "name": "python",
   "nbconvert_exporter": "python",
   "pygments_lexer": "ipython2",
   "version": "2.7.6"
  }
 },
 "nbformat": 4,
 "nbformat_minor": 0
}
