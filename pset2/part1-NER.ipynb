{
  "cells": [
    {
      "cell_type": "markdown",
      "metadata": {},
      "source": [
        "# CS 224D Assignment #2\n",
        "# Part [1]: Deep Networks: NER Window Model\n",
        "\n",
        "For this first part of the assignment, you'll build your first \"deep\" networks. On problem set 1, you computed the backpropagation gradient $\\frac{\\partial J}{\\partial w}$ for a two-layer network; in this problem set you'll implement a slightly more complex network to perform  named entity recognition (NER).\n",
        "\n",
        "Before beginning the programming section, you should complete parts (a) and (b) of the corresponding section of the handout."
      ]
    },
    {
      "cell_type": "code",
      "execution_count": 1,
      "metadata": {
        "collapsed": false
      },
      "outputs": [],
      "source": [
        "import sys, os\n",
        "from numpy import *\n",
        "from matplotlib.pyplot import *\n",
        "%matplotlib inline\n",
        "matplotlib.rcParams['savefig.dpi'] = 100\n",
        "\n",
        "%load_ext autoreload\n",
        "%autoreload 2"
      ]
    },
    {
      "cell_type": "markdown",
      "metadata": {},
      "source": [
        "## (c): Random Initialization Test\n",
        "Use the cell below to test your code."
      ]
    },
    {
      "cell_type": "code",
      "execution_count": 2,
      "metadata": {
        "collapsed": false
      },
      "outputs": [],
      "source": [
        "from misc import random_weight_matrix\n",
        "random.seed(10)\n",
        "print random_weight_matrix(3,5)"
      ]
    },
    {
      "cell_type": "markdown",
      "metadata": {},
      "source": [
        "## (d): Implementation\n",
        "\n",
        "We've provided starter code to load in the dataset and convert it to a list of \"windows\", consisting of indices into the matrix of word vectors. \n",
        "\n",
        "We pad each sentence with begin and end tokens `<s>` and `</s>`, which have their own word vector representations; additionally, we convert all words to lowercase, canonicalize digits (e.g. `1.12` becomes `DG.DGDG`), and replace unknown words with a special token `UUUNKKK`.\n",
        "\n",
        "You don't need to worry about the details of this, but you can inspect the `docs` variables or look at the raw data (in plaintext) in the `./data/` directory."
      ]
    },
    {
      "cell_type": "code",
      "execution_count": 3,
      "metadata": {
        "collapsed": true
      },
      "outputs": [],
      "source": [
        "import data_utils.utils as du\n",
        "import data_utils.ner as ner"
      ]
    },
    {
      "cell_type": "code",
      "execution_count": 4,
      "metadata": {
        "collapsed": false
      },
      "outputs": [],
      "source": [
        "# Load the starter word vectors\n",
        "wv, word_to_num, num_to_word = ner.load_wv('data/ner/vocab.txt',\n",
        "                                           'data/ner/wordVectors.txt')\n",
        "tagnames = [\"O\", \"LOC\", \"MISC\", \"ORG\", \"PER\"]\n",
        "num_to_tag = dict(enumerate(tagnames))\n",
        "tag_to_num = du.invert_dict(num_to_tag)\n",
        "\n",
        "# Set window size\n",
        "windowsize = 3\n",
        "\n",
        "# Load the training set\n",
        "docs = du.load_dataset('data/ner/train')\n",
        "X_train, y_train = du.docs_to_windows(docs, word_to_num, tag_to_num,\n",
        "                                      wsize=windowsize)\n",
        "\n",
        "# Load the dev set (for tuning hyperparameters)\n",
        "docs = du.load_dataset('data/ner/dev')\n",
        "X_dev, y_dev = du.docs_to_windows(docs, word_to_num, tag_to_num,\n",
        "                                  wsize=windowsize)\n",
        "\n",
        "# Load the test set (dummy labels only)\n",
        "docs = du.load_dataset('data/ner/test.masked')\n",
        "X_test, y_test = du.docs_to_windows(docs, word_to_num, tag_to_num,\n",
        "                                    wsize=windowsize)"
      ]
    },
    {
      "cell_type": "markdown",
      "metadata": {},
      "source": [
        "To avoid re-inventing the wheel, we provide a base class that handles a lot of the drudgery of managing parameters and running gradient descent. It's based on the classifier API used by [`scikit-learn`](http://scikit-learn.org/stable/), so if you're familiar with that library it should be easy to use. \n",
        "\n",
        "We'll be using this class for the rest of this assignment, so it helps to get acquainted with a simple example that should be familiar from Assignment 1. To keep this notebook uncluttered, we've put the code in the `softmax_example.py`; take a look at it there, then run the cell below."
      ]
    },
    {
      "cell_type": "code",
      "execution_count": 5,
      "metadata": {
        "collapsed": false
      },
      "outputs": [],
      "source": [
        "from softmax_example import SoftmaxRegression\n",
        "sr = SoftmaxRegression(wv=zeros((10,100)), dims=(100,5))\n",
        "\n",
        "##\n",
        "# Automatic gradient checker!\n",
        "# this checks anything you add to self.grads or self.sgrads\n",
        "# using the method of Assignment 1\n",
        "sr.grad_check(x=5, y=4)"
      ]
    },
    {
      "cell_type": "markdown",
      "metadata": {},
      "source": [
        "In order to implement a model, you need to subclass `NNBase`, then implement the following methods:\n",
        "\n",
        "- `__init__()` (initialize parameters and hyperparameters)\n",
        "- `_acc_grads()` (compute and accumulate gradients)\n",
        "- `compute_loss()` (compute loss for a training example)\n",
        "- `predict()`, `predict_proba()`, or other prediction method (for evaluation)\n",
        "\n",
        "`NNBase` provides you with a few others that will be helpful:\n",
        "\n",
        "- `grad_check()` (run a gradient check - calls `_acc_grads` and `compute_loss`)\n",
        "- `train_sgd()` (run SGD training; more on this later)\n",
        "\n",
        "Your task is to implement the window model in `nerwindow.py`; a scaffold has been provided for you with instructions on what to fill in.\n",
        "\n",
        "When ready, you can test below:"
      ]
    },
    {
      "cell_type": "code",
      "execution_count": 6,
      "metadata": {
        "collapsed": false
      },
      "outputs": [],
      "source": [
        "from nerwindow import WindowMLP\n",
        "clf = WindowMLP(wv, windowsize=windowsize, dims=[None, 100, 5],\n",
        "                reg=0.001, alpha=0.01)\n",
        "clf.grad_check(X_train[0], y_train[0]) # gradient check on single point"
      ]
    },
    {
      "cell_type": "markdown",
      "metadata": {},
      "source": [
        "Now we'll train your model on some data! You can implement your own SGD method, but we recommend that you just call `clf.train_sgd`. This takes the following arguments:\n",
        "\n",
        "- `X`, `y` : training data\n",
        "- `idxiter`: iterable (list or generator) that gives index (row of X) of training examples in the order they should be visited by SGD\n",
        "- `printevery`: int, prints progress after this many examples\n",
        "- `costevery`: int, computes mean loss after this many examples. This is a costly operation, so don't make this too frequent!\n",
        "\n",
        "The implementation we give you supports minibatch learning; if `idxiter` is a list-of-lists (or yields lists), then gradients will be computed for all indices in a minibatch before modifying the parameters (this is why we have you write `_acc_grad` instead of applying them directly!).\n",
        "\n",
        "Before training, you should generate a training schedule to pass as `idxiter`. If you know how to use Python generators, we recommend those; otherwise, just make a static list. Make the following in the cell below:\n",
        "\n",
        "- An \"epoch\" schedule that just iterates through the training set, in order, `nepoch` times.\n",
        "- A random schedule of `N` examples sampled with replacement from the training set.\n",
        "- A random schedule of `N/k` minibatches of size `k`, sampled with replacement from the training set."
      ]
    },
    {
      "cell_type": "code",
      "execution_count": 7,
      "metadata": {
        "collapsed": false
      },
      "outputs": [],
      "source": [
        "nepoch = 5\n",
        "N = nepoch * len(y_train)\n",
        "k = 5 # minibatch size\n",
        "\n",
        "random.seed(10) # do not change this!\n",
        "#### YOUR CODE HERE ####\n",
        "\n",
        "\n",
        "#### END YOUR CODE ###"
      ]
    },
    {
      "cell_type": "markdown",
      "metadata": {},
      "source": [
        "Now call `train_sgd` to train on `X_train`, `y_train`. To verify that things work, train on 100,000 examples or so to start (with any of the above schedules). This shouldn't take more than a couple minutes, and you should get a mean cross-entropy loss around 0.4.\n",
        "\n",
        "Now, if this works well, it's time for production! You have three tasks here:\n",
        "\n",
        "1. Train a good model\n",
        "2. Plot a learning curve (cost vs. # of iterations)\n",
        "3. Use your best model to predict the test set\n",
        "\n",
        "You should train on the `train` data and evaluate performance on the `dev` set. The `test` data we provided has only dummy labels (everything is `O`); we'll compare your predictions to the true labels at grading time. \n",
        "\n",
        "Scroll down to section (f) for the evaluation code.\n",
        "\n",
        "We don't expect you to spend too much time doing an exhaustive search here; the default parameters should work well, although you can certainly do better. Try to achieve an F1 score of at least 76% on the dev set, as reported by `eval_performance`.\n",
        "\n",
        "Feel free to create new cells and write new code here, including new functions (helpers and otherwise) in `nerwindow.py`. When you have a good model, follow the instructions below to make predictions on the test set.\n",
        "\n",
        "A strong model may require 10-20 passes (or equivalent number of random samples) through the training set and could take 20 minutes or more to train - but it's also possible to be much, much faster!\n",
        "\n",
        "Things you may want to tune:\n",
        "- `alpha` (including using an \"annealing\" schedule to decrease the learning rate over time)\n",
        "- training schedule and minibatch size\n",
        "- regularization strength\n",
        "- hidden layer dimension\n",
        "- width of context window"
      ]
    },
    {
      "cell_type": "code",
      "execution_count": 8,
      "metadata": {
        "collapsed": false,
        "scrolled": true
      },
      "outputs": [],
      "source": [
        "#### YOUR CODE HERE ####\n",
        "# Sandbox: build a good model by tuning hyperparameters\n",
        "\n",
        "\n",
        "#### END YOUR CODE ####"
      ]
    },
    {
      "cell_type": "code",
      "execution_count": 9,
      "metadata": {
        "collapsed": false,
        "scrolled": true
      },
      "outputs": [],
      "source": [
        "#### YOUR CODE HERE ####\n",
        "# Sandbox: build a good model by tuning hyperparameters\n",
        "\n",
        "\n",
        "#### END YOUR CODE ####"
      ]
    },
    {
      "cell_type": "code",
      "execution_count": 10,
      "metadata": {
        "collapsed": false,
        "scrolled": true
      },
      "outputs": [],
      "source": [
        "#### YOUR CODE HERE ####\n",
        "# Sandbox: build a good model by tuning hyperparameters\n",
        "\n",
        "\n",
        "#### END YOUR CODE ####"
      ]
    },
    {
      "cell_type": "markdown",
      "metadata": {},
      "source": [
        "## (e): Plot Learning Curves\n",
        "The `train_sgd` function returns a list of points `(counter, cost)` giving the mean loss after that number of SGD iterations.\n",
        "\n",
        "If the model is taking too long you can cut it off by going to *Kernel->Interrupt* in the IPython menu; `train_sgd` will return the training curve so-far, and you can restart without losing your training progress.\n",
        "\n",
        "Make two plots:\n",
        "\n",
        "- Learning curve using `reg = 0.001`, and comparing the effect of changing the learning rate: run with `alpha = 0.01` and `alpha = 0.1`. Use minibatches of size 5, and train for 10,000 minibatches with `costevery=200`. Be sure to scale up your counts (x-axis) to reflect the batch size. What happens if the model tries to learn too fast? Explain why this occurs, based on the relation of SGD to the true objective.\n",
        "\n",
        "- Learning curve for your best model (print the hyperparameters in the title), as trained using your best schedule. Set `costevery` so that you get at least 100 points to plot."
      ]
    },
    {
      "cell_type": "code",
      "execution_count": 11,
      "metadata": {
        "collapsed": false,
        "scrolled": true
      },
      "outputs": [],
      "source": [
        "##\n",
        "# Plot your best learning curve here\n",
        "counts, costs = zip(*traincurvebest)\n",
        "figure(figsize=(6,4))\n",
        "plot(5*array(counts), costs, color='b', marker='o', linestyle='-')\n",
        "title(r\"Learning Curve ($\\alpha$=%g, $\\lambda$=%g)\" % (clf.alpha, clf.lreg))\n",
        "xlabel(\"SGD Iterations\"); ylabel(r\"Average $J(\\theta)$\"); \n",
        "ylim(ymin=0, ymax=max(1.1*max(costs),3*min(costs)));\n",
        "ylim(0,0.5)\n",
        "\n",
        "# Don't change this filename!\n",
        "savefig(\"ner.learningcurve.best.png\")"
      ]
    },
    {
      "cell_type": "code",
      "execution_count": 12,
      "metadata": {
        "collapsed": false
      },
      "outputs": [],
      "source": [
        "##\n",
        "# Plot comparison of learning rates here\n",
        "# feel free to change the code below\n",
        "\n",
        "figure(figsize=(6,4))\n",
        "counts, costs = zip(*trainingcurve1)\n",
        "plot(5*array(counts), costs, color='b', marker='o', linestyle='-', label=r\"$\\alpha=0.01$\")\n",
        "counts, costs = zip(*trainingcurve2)\n",
        "plot(5*array(counts), costs, color='g', marker='o', linestyle='-', label=r\"$\\alpha=0.1$\")\n",
        "title(r\"Learning Curve ($\\lambda=0.01$, minibatch k=5)\")\n",
        "xlabel(\"SGD Iterations\"); ylabel(r\"Average $J(\\theta)$\"); \n",
        "ylim(ymin=0, ymax=max(1.1*max(costs),3*min(costs)));\n",
        "legend()\n",
        "\n",
        "# Don't change this filename\n",
        "savefig(\"ner.learningcurve.comparison.png\")"
      ]
    },
    {
      "cell_type": "markdown",
      "metadata": {},
      "source": [
        "## (f): Evaluating your model\n",
        "Evaluate the model on the dev set using your `predict` function, and compute performance metrics below!"
      ]
    },
    {
      "cell_type": "code",
      "execution_count": 13,
      "metadata": {
        "collapsed": true
      },
      "outputs": [],
      "source": [
        "# Predict labels on the dev set\n",
        "yp = clf.predict(X_dev)\n",
        "# Save predictions to a file, one per line\n",
        "ner.save_predictions(yp, \"dev.predicted\")"
      ]
    },
    {
      "cell_type": "code",
      "execution_count": 14,
      "metadata": {
        "collapsed": false,
        "scrolled": true
      },
      "outputs": [],
      "source": [
        "from nerwindow import full_report, eval_performance\n",
        "full_report(y_dev, yp, tagnames) # full report, helpful diagnostics\n",
        "eval_performance(y_dev, yp, tagnames) # performance: optimize this F1"
      ]
    },
    {
      "cell_type": "code",
      "execution_count": 15,
      "metadata": {
        "collapsed": false
      },
      "outputs": [],
      "source": [
        "# Save your predictions on the test set for us to evaluate\n",
        "# IMPORTANT: make sure X_test is exactly as loaded \n",
        "# from du.docs_to_windows, so that your predictions \n",
        "# line up with ours.\n",
        "yptest = clf.predict(X_test)\n",
        "ner.save_predictions(yptest, \"test.predicted\")"
      ]
    },
    {
      "cell_type": "markdown",
      "metadata": {},
      "source": [
        "## Part [1.1]: Probing neuron responses\n",
        "\n",
        "You might have seen some results from computer vision where the individual neurons learn to detect edges, shapes, or even [cat faces](http://googleblog.blogspot.com/2012/06/using-large-scale-brain-simulations-for.html). We're going to do the same for language.\n",
        "\n",
        "Recall that each \"neuron\" is essentially a logistic regression unit, with weights corresponding to rows of the corresponding matrix. So, if we have a hidden layer of dimension 100, then we can think of our matrix $W \\in \\mathbb{R}^{100 x 150}$ as representing 100 hidden neurons each with weights `W[i,:]` and bias `b1[i]`.\n",
        "\n",
        "### (a): Hidden Layer, Center Word\n",
        "For now, let's just look at the center word, and ignore the rest of the window. This corresponds to columns `W[:,50:100]`, although this could change if you altered the window size for your model. For each neuron, find the top 10 words that it responds to, as measured by the dot product between `W[i,50:100]` and `L[j]`. Use the provided code to print these words and their scores for 5 neurons of your choice. In your writeup, briefly describe what you notice here.\n",
        "\n",
        "The `num_to_word` dictionary, loaded earlier, may be helpful."
      ]
    },
    {
      "cell_type": "code",
      "execution_count": 16,
      "metadata": {
        "collapsed": false,
        "scrolled": false
      },
      "outputs": [],
      "source": [
        "# Recommended function to print scores\n",
        "# scores = list of float\n",
        "# words = list of str\n",
        "def print_scores(scores, words):\n",
        "    for i in range(len(scores)):\n",
        "        print \"[%d]: (%.03f) %s\" % (i, scores[i], words[i])\n",
        "\n",
        "#### YOUR CODE HERE ####\n",
        "\n",
        "neurons = [1,3,4,6,8] # change this to your chosen neurons\n",
        "for i in neurons:\n",
        "    print \"Neuron %d\" % i\n",
        "    print_scores(topscores[i], topwords[i])\n",
        "    \n",
        "#### END YOUR CODE ####"
      ]
    },
    {
      "cell_type": "markdown",
      "metadata": {},
      "source": [
        "### (b): Model Output, Center Word\n",
        "Now, let's do the same for the output layer. Here we only have 5 neurons, one for each class. `O` isn't very interesting, but let's look at the other four.\n",
        "\n",
        "Here things get a little more complicated: since we take a softmax, we can't just look at the neurons separately. An input could cause several of these neurons to all have a strong response, so we really need to compute the softmax output and find the strongest inputs for each class.\n",
        "\n",
        "As before, let's consider only the center word (`W[:,50:100]`). For each class `ORG`, `PER`, `LOC`, and `MISC`, find the input words that give the highest probability $P(\\text{class}\\ |\\ \\text{word})$.\n",
        "\n",
        "You'll need to do the full feed-forward computation here - for efficiency, try to express this as a matrix operation on $L$. This is the same feed-forward computation as used to predict probabilities, just with $W$ replaced by `W[:,50:100]`.\n",
        "\n",
        "As with the hidden-layer neurons, print the top 10 words and their corresponding class probabilities for each class."
      ]
    },
    {
      "cell_type": "code",
      "execution_count": 17,
      "metadata": {
        "collapsed": false
      },
      "outputs": [],
      "source": [
        "#### YOUR CODE HERE ####\n",
        "\n",
        "\n",
        "for i in range(1,5):\n",
        "    print \"Output neuron %d: %s\" % (i, num_to_tag[i])\n",
        "    print_scores(topscores[i], topwords[i])\n",
        "    print \"\"\n",
        "\n",
        "#### END YOUR CODE ####"
      ]
    },
    {
      "cell_type": "markdown",
      "metadata": {},
      "source": [
        "### (c): Model Output, Preceding Word\n",
        "Now for one final task: let's look at the preceding word. Repeat the above analysis for the output layer, but use the first part of $W$, i.e. `W[:,:50]`.\n",
        "\n",
        "Describe what you see, and include these results in your writeup."
      ]
    },
    {
      "cell_type": "code",
      "execution_count": 18,
      "metadata": {
        "collapsed": false,
        "scrolled": false
      },
      "outputs": [],
      "source": [
        "#### YOUR CODE HERE ####\n",
        "\n",
        "\n",
        "for i in range(1,5):\n",
        "    print \"Output neuron %d: %s\" % (i, num_to_tag[i])\n",
        "    print_scores(topscores[i], topwords[i])\n",
        "    print \"\"\n",
        "\n",
        "#### END YOUR CODE ####"
      ]
    },
    {
      "cell_type": "code",
      "execution_count": null,
      "metadata": {
        "collapsed": true
      },
      "outputs": [],
      "source": []
    }
  ],
  "metadata": {
    "kernelspec": {
      "display_name": "Python 2",
      "language": "python",
      "name": "python2"
    },
    "language_info": {
      "codemirror_mode": {
        "name": "ipython",
        "version": 2
      },
      "file_extension": ".py",
      "mimetype": "text/x-python",
      "name": "python",
      "nbconvert_exporter": "python",
      "pygments_lexer": "ipython2",
      "version": "2.7.9"
    }
  },
  "nbformat": 4,
  "nbformat_minor": 0
}
