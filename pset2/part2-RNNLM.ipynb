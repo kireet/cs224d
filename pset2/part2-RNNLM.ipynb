{
  "cells": [
    {
      "cell_type": "markdown",
      "metadata": {},
      "source": [
        "# CS 224D Assignment #2\n",
        "# Part [2]: Recurrent Neural Networks\n",
        "\n",
        "This notebook will provide starter code, testing snippets, and additional guidance for implementing the Recurrent Neural Network Language Model (RNNLM) described in Part 2 of the handout.\n",
        "\n",
        "Please complete parts (a), (b), and (c) of Part 2 before beginning this notebook."
      ]
    },
    {
      "cell_type": "code",
      "execution_count": 1,
      "metadata": {
        "collapsed": true
      },
      "outputs": [],
      "source": [
        "import sys, os\n",
        "from numpy import *\n",
        "from matplotlib.pyplot import *\n",
        "%matplotlib inline\n",
        "matplotlib.rcParams['savefig.dpi'] = 100\n",
        "\n",
        "%load_ext autoreload\n",
        "%autoreload 2"
      ]
    },
    {
      "cell_type": "markdown",
      "metadata": {},
      "source": [
        "## (e): Implement a Recurrent Neural Network Language Model\n",
        "\n",
        "Follow the instructions on the handout to implement your model in `rnnlm.py`, then use the code below to test."
      ]
    },
    {
      "cell_type": "code",
      "execution_count": 2,
      "metadata": {
        "collapsed": false
      },
      "outputs": [],
      "source": [
        "from rnnlm import RNNLM\n",
        "# Gradient check on toy data, for speed\n",
        "random.seed(10)\n",
        "wv_dummy = random.randn(10,50)\n",
        "model = RNNLM(L0 = wv_dummy, U0 = wv_dummy,\n",
        "              alpha=0.005, rseed=10, bptt=4)\n",
        "model.grad_check(array([1,2,3]), array([2,3,4]))"
      ]
    },
    {
      "cell_type": "markdown",
      "metadata": {},
      "source": [
        "## Prepare Vocabulary and Load PTB Data\n",
        "\n",
        "We've pre-prepared a list of the vocabulary in the Penn Treebank, along with their absolute counts and unigram frequencies. The document loader code below will \"canonicalize\" words and replace any unknowns with a `\"UUUNKKK\"` token, then convert the data to lists of indices."
      ]
    },
    {
      "cell_type": "code",
      "execution_count": 3,
      "metadata": {
        "collapsed": false
      },
      "outputs": [],
      "source": [
        "from data_utils import utils as du\n",
        "import pandas as pd\n",
        "\n",
        "# Load the vocabulary\n",
        "vocab = pd.read_table(\"data/lm/vocab.ptb.txt\", header=None, sep=\"\\s+\",\n",
        "                     index_col=0, names=['count', 'freq'], )\n",
        "\n",
        "# Choose how many top words to keep\n",
        "vocabsize = 2000\n",
        "num_to_word = dict(enumerate(vocab.index[:vocabsize]))\n",
        "word_to_num = du.invert_dict(num_to_word)\n",
        "##\n",
        "# Below needed for 'adj_loss': DO NOT CHANGE\n",
        "fraction_lost = float(sum([vocab['count'][word] for word in vocab.index\n",
        "                           if (not word in word_to_num) \n",
        "                               and (not word == \"UUUNKKK\")]))\n",
        "fraction_lost /= sum([vocab['count'][word] for word in vocab.index\n",
        "                      if (not word == \"UUUNKKK\")])\n",
        "print \"Retained %d words from %d (%.02f%% of all tokens)\" % (vocabsize, len(vocab),\n",
        "                                                             100*(1-fraction_lost))"
      ]
    },
    {
      "cell_type": "markdown",
      "metadata": {},
      "source": [
        "Load the datasets, using the vocabulary in `word_to_num`. Our starter code handles this for you, and also generates lists of lists X and Y, corresponding to input words and target words*. \n",
        "\n",
        "*(Of course, the target words are just the input words, shifted by one position, but it can be cleaner and less error-prone to keep them separate.)*"
      ]
    },
    {
      "cell_type": "code",
      "execution_count": 4,
      "metadata": {
        "collapsed": false
      },
      "outputs": [],
      "source": [
        "# Load the training set\n",
        "docs = du.load_dataset('data/lm/ptb-train.txt')\n",
        "S_train = du.docs_to_indices(docs, word_to_num)\n",
        "X_train, Y_train = du.seqs_to_lmXY(S_train)\n",
        "\n",
        "# Load the dev set (for tuning hyperparameters)\n",
        "docs = du.load_dataset('data/lm/ptb-dev.txt')\n",
        "S_dev = du.docs_to_indices(docs, word_to_num)\n",
        "X_dev, Y_dev = du.seqs_to_lmXY(S_dev)\n",
        "\n",
        "# Load the test set (final evaluation only)\n",
        "docs = du.load_dataset('data/lm/ptb-test.txt')\n",
        "S_test = du.docs_to_indices(docs, word_to_num)\n",
        "X_test, Y_test = du.seqs_to_lmXY(S_test)\n",
        "\n",
        "# Display some sample data\n",
        "print \" \".join(d[0] for d in docs[7])\n",
        "print S_test[7]"
      ]
    },
    {
      "cell_type": "markdown",
      "metadata": {},
      "source": [
        "## (f): Train and evaluate your model\n",
        "\n",
        "When you're able to pass the gradient check, let's run our model on some real language!\n",
        "\n",
        "You should randomly initialize the word vectors as Gaussian noise, i.e. $L_{ij} \\sim \\mathit{N}(0,0.1)$ and $U_{ij} \\sim \\mathit{N}(0,0.1)$; the function `random.randn` may be helpful here.\n",
        "\n",
        "As in Part 1, you should tune hyperparameters to get a good model."
      ]
    },
    {
      "cell_type": "code",
      "execution_count": 5,
      "metadata": {
        "collapsed": false
      },
      "outputs": [],
      "source": [
        "hdim = 100 # dimension of hidden layer = dimension of word vectors\n",
        "random.seed(10)\n",
        "L0 = zeros((vocabsize, hdim)) # replace with random init, \n",
        "                              # or do in RNNLM.__init__()\n",
        "# test parameters; you probably want to change these\n",
        "model = RNNLM(L0, U0 = L0, alpha=0.1, rseed=10, bptt=1)\n",
        "\n",
        "# Gradient check is going to take a *long* time here\n",
        "# since it's quadratic-time in the number of parameters.\n",
        "# run at your own risk... (but do check this!)\n",
        "# model.grad_check(array([1,2,3]), array([2,3,4]))"
      ]
    },
    {
      "cell_type": "code",
      "execution_count": 6,
      "metadata": {
        "collapsed": false,
        "scrolled": true
      },
      "outputs": [],
      "source": [
        "#### YOUR CODE HERE ####\n",
        "\n",
        "##\n",
        "# Pare down to a smaller dataset, for speed\n",
        "# (optional - recommended to not do this for your final model)\n",
        "ntrain = len(Y_train)\n",
        "X = X_train[:ntrain]\n",
        "Y = Y_train[:ntrain]\n",
        "\n",
        "\n",
        "\n",
        "\n",
        "#### END YOUR CODE ####"
      ]
    },
    {
      "cell_type": "code",
      "execution_count": 7,
      "metadata": {
        "collapsed": true
      },
      "outputs": [],
      "source": [
        "## Evaluate cross-entropy loss on the dev set,\n",
        "## then convert to perplexity for your writeup\n",
        "dev_loss = model.compute_mean_loss(X_dev, Y_dev)"
      ]
    },
    {
      "cell_type": "markdown",
      "metadata": {},
      "source": [
        "The performance of the model is skewed somewhat by the large number of `UUUNKKK` tokens; if these are 1/6 of the dataset, then that's a sizeable fraction that we're just waving our hands at. Naively, our model gets credit for these that's not really deserved; the formula below roughly removes this contribution from the average loss. Don't worry about how it's derived, but do report both scores - it helps us compare across models with different vocabulary sizes."
      ]
    },
    {
      "cell_type": "code",
      "execution_count": 21,
      "metadata": {
        "collapsed": false
      },
      "outputs": [],
      "source": [
        "## DO NOT CHANGE THIS CELL ##\n",
        "# Report your numbers, after computing dev_loss above.\n",
        "def adjust_loss(loss, funk, q, mode='basic'):\n",
        "    if mode == 'basic':\n",
        "        # remove freebies only: score if had no UUUNKKK\n",
        "        return (loss + funk*log(funk))/(1 - funk)\n",
        "    else:\n",
        "        # remove freebies, replace with best prediction on remaining\n",
        "        return loss + funk*log(funk) - funk*log(q)\n",
        "# q = best unigram frequency from omitted vocab\n",
        "# this is the best expected loss out of that set\n",
        "q = vocab.freq[vocabsize] / sum(vocab.freq[vocabsize:])\n",
        "print \"Unadjusted: %.03f\" % exp(dev_loss)\n",
        "print \"Adjusted for missing vocab: %.03f\" % exp(adjust_loss(dev_loss, fraction_lost, q))"
      ]
    },
    {
      "cell_type": "markdown",
      "metadata": {},
      "source": [
        "### Save Model Parameters"
      ]
    },
    {
      "cell_type": "code",
      "execution_count": 16,
      "metadata": {
        "collapsed": false
      },
      "outputs": [],
      "source": [
        "##\n",
        "# Save to .npy files; should only be a few MB total\n",
        "assert(min(model.sparams.L.shape) <= 100) # don't be too big\n",
        "assert(max(model.sparams.L.shape) <= 5000) # don't be too big\n",
        "save(\"rnnlm.L.npy\", model.sparams.L)\n",
        "save(\"rnnlm.U.npy\", model.params.U)\n",
        "save(\"rnnlm.H.npy\", model.params.H)"
      ]
    },
    {
      "cell_type": "markdown",
      "metadata": {},
      "source": [
        "## (g): Generating Data\n",
        "\n",
        "Once you've trained your model to satisfaction, let's use it to generate some sentences!\n",
        "\n",
        "Implement the `generate_sequence` function in `rnnlm.py`, and call it below."
      ]
    },
    {
      "cell_type": "code",
      "execution_count": 19,
      "metadata": {
        "collapsed": false
      },
      "outputs": [],
      "source": [
        "def seq_to_words(seq):\n",
        "    return [num_to_word[s] for s in seq]\n",
        "    \n",
        "seq, J = model.generate_sequence(word_to_num[\"<s>\"], \n",
        "                                 word_to_num[\"</s>\"], \n",
        "                                 maxlen=100)\n",
        "print J\n",
        "# print seq\n",
        "print \" \".join(seq_to_words(seq))"
      ]
    },
    {
      "cell_type": "markdown",
      "metadata": {},
      "source": [
        "**BONUS:** Use the unigram distribution given in the `vocab` table to fill in any `UUUNKKK` tokens in your generated sequences with words that we omitted from the vocabulary. You'll want to use `list(vocab.index)` to get a list of words, and `vocab.freq` to get a list of corresponding frequencies."
      ]
    },
    {
      "cell_type": "code",
      "execution_count": 20,
      "metadata": {
        "collapsed": false
      },
      "outputs": [],
      "source": [
        "# Replace UUUNKKK with a random unigram,\n",
        "# drawn from vocab that we skipped\n",
        "from nn.math import MultinomialSampler, multinomial_sample\n",
        "def fill_unknowns(words):\n",
        "    #### YOUR CODE HERE ####\n",
        "    ret = words # do nothing; replace this\n",
        "    \n",
        "\n",
        "    #### END YOUR CODE ####\n",
        "    return ret\n",
        "    \n",
        "print \" \".join(fill_unknowns(seq_to_words(seq)))"
      ]
    },
    {
      "cell_type": "code",
      "execution_count": null,
      "metadata": {
        "collapsed": true
      },
      "outputs": [],
      "source": []
    }
  ],
  "metadata": {
    "kernelspec": {
      "display_name": "Python 2",
      "language": "python",
      "name": "python2"
    },
    "language_info": {
      "codemirror_mode": {
        "name": "ipython",
        "version": 2
      },
      "file_extension": ".py",
      "mimetype": "text/x-python",
      "name": "python",
      "nbconvert_exporter": "python",
      "pygments_lexer": "ipython2",
      "version": "2.7.9"
    }
  },
  "nbformat": 4,
  "nbformat_minor": 0
}
