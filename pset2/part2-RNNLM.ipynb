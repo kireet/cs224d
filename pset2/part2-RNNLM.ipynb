{
 "cells": [
  {
   "cell_type": "markdown",
   "metadata": {},
   "source": [
    "# CS 224D Assignment #2\n",
    "# Part [2]: Recurrent Neural Networks\n",
    "\n",
    "This notebook will provide starter code, testing snippets, and additional guidance for implementing the Recurrent Neural Network Language Model (RNNLM) described in Part 2 of the handout.\n",
    "\n",
    "Please complete parts (a), (b), and (c) of Part 2 before beginning this notebook."
   ]
  },
  {
   "cell_type": "code",
   "execution_count": 177,
   "metadata": {
    "collapsed": false
   },
   "outputs": [
    {
     "name": "stdout",
     "output_type": "stream",
     "text": [
      "The autoreload extension is already loaded. To reload it, use:\n",
      "  %reload_ext autoreload\n"
     ]
    }
   ],
   "source": [
    "import sys, os\n",
    "from numpy import *\n",
    "from matplotlib.pyplot import *\n",
    "%matplotlib inline\n",
    "matplotlib.rcParams['savefig.dpi'] = 100\n",
    "\n",
    "%load_ext autoreload\n",
    "%autoreload 2"
   ]
  },
  {
   "cell_type": "markdown",
   "metadata": {},
   "source": [
    "## (e): Implement a Recurrent Neural Network Language Model\n",
    "\n",
    "Follow the instructions on the handout to implement your model in `rnnlm.py`, then use the code below to test."
   ]
  },
  {
   "cell_type": "code",
   "execution_count": 178,
   "metadata": {
    "collapsed": false
   },
   "outputs": [
    {
     "name": "stderr",
     "output_type": "stream",
     "text": [
      "NOTE: temporarily setting self.bptt = len(y) = 3 to compute true gradient.\n",
      "grad_check: dJ/dH error norm = 6.67e-10 [ok]\n",
      "    H dims: [50, 50] = 2500 elem\n",
      "grad_check: dJ/dU error norm = 1.014e-09 [ok]\n",
      "    U dims: [10, 50] = 500 elem\n",
      "grad_check: dJ/dL[3] error norm = 4.208e-10 [ok]\n",
      "    L[3] dims: [50] = 50 elem\n",
      "grad_check: dJ/dL[2] error norm = 4.199e-10 [ok]\n",
      "    L[2] dims: [50] = 50 elem\n",
      "grad_check: dJ/dL[1] error norm = 4.192e-10 [ok]\n",
      "    L[1] dims: [50] = 50 elem\n",
      "Reset self.bptt = 20\n"
     ]
    }
   ],
   "source": [
    "from rnnlm import RNNLM\n",
    "# Gradient check on toy data, for speed\n",
    "random.seed(10)\n",
    "wv_dummy = random.randn(10,50)\n",
    "model = RNNLM(L0 = wv_dummy, U0 = wv_dummy,\n",
    "              alpha=0.005, rseed=10, bptt=20)\n",
    "model.grad_check(array([1,2,3]), array([2,3,4]))"
   ]
  },
  {
   "cell_type": "markdown",
   "metadata": {},
   "source": [
    "## Prepare Vocabulary and Load PTB Data\n",
    "\n",
    "We've pre-prepared a list of the vocabulary in the Penn Treebank, along with their absolute counts and unigram frequencies. The document loader code below will \"canonicalize\" words and replace any unknowns with a `\"UUUNKKK\"` token, then convert the data to lists of indices."
   ]
  },
  {
   "cell_type": "code",
   "execution_count": 179,
   "metadata": {
    "collapsed": false
   },
   "outputs": [
    {
     "name": "stdout",
     "output_type": "stream",
     "text": [
      "Retained 2000 words from 38444 (84.00% of all tokens)\n"
     ]
    }
   ],
   "source": [
    "from data_utils import utils as du\n",
    "import pandas as pd\n",
    "\n",
    "# Load the vocabulary\n",
    "vocab = pd.read_table(\"data/lm/vocab.ptb.txt\", header=None, sep=\"\\s+\",\n",
    "                     index_col=0, names=['count', 'freq'], )\n",
    "\n",
    "# Choose how many top words to keep\n",
    "vocabsize = 2000\n",
    "num_to_word = dict(enumerate(vocab.index[:vocabsize]))\n",
    "word_to_num = du.invert_dict(num_to_word)\n",
    "##\n",
    "# Below needed for 'adj_loss': DO NOT CHANGE\n",
    "fraction_lost = float(sum([vocab['count'][word] for word in vocab.index\n",
    "                           if (not word in word_to_num) \n",
    "                               and (not word == \"UUUNKKK\")]))\n",
    "fraction_lost /= sum([vocab['count'][word] for word in vocab.index\n",
    "                      if (not word == \"UUUNKKK\")])\n",
    "print \"Retained %d words from %d (%.02f%% of all tokens)\" % (vocabsize, len(vocab),\n",
    "                                                             100*(1-fraction_lost))"
   ]
  },
  {
   "cell_type": "markdown",
   "metadata": {},
   "source": [
    "Load the datasets, using the vocabulary in `word_to_num`. Our starter code handles this for you, and also generates lists of lists X and Y, corresponding to input words and target words*. \n",
    "\n",
    "*(Of course, the target words are just the input words, shifted by one position, but it can be cleaner and less error-prone to keep them separate.)*"
   ]
  },
  {
   "cell_type": "code",
   "execution_count": 180,
   "metadata": {
    "collapsed": false
   },
   "outputs": [
    {
     "name": "stdout",
     "output_type": "stream",
     "text": [
      "Big investment banks refused to step up to the plate to support the beleaguered floor traders by buying big blocks of stock , traders say .\n",
      "[   4  147  169  250 1879    7 1224   64    7    1    3    7  456    1    3\n",
      " 1024  255   24  378  147    3    6   67    0  255  138    2    5]\n"
     ]
    }
   ],
   "source": [
    "# Load the training set\n",
    "docs = du.load_dataset('data/lm/ptb-train.txt')\n",
    "S_train = du.docs_to_indices(docs, word_to_num)\n",
    "X_train, Y_train = du.seqs_to_lmXY(S_train)\n",
    "\n",
    "# Load the dev set (for tuning hyperparameters)\n",
    "docs = du.load_dataset('data/lm/ptb-dev.txt')\n",
    "S_dev = du.docs_to_indices(docs, word_to_num)\n",
    "X_dev, Y_dev = du.seqs_to_lmXY(S_dev)\n",
    "\n",
    "# Load the test set (final evaluation only)\n",
    "docs = du.load_dataset('data/lm/ptb-test.txt')\n",
    "S_test = du.docs_to_indices(docs, word_to_num)\n",
    "X_test, Y_test = du.seqs_to_lmXY(S_test)\n",
    "\n",
    "# Display some sample data\n",
    "print \" \".join(d[0] for d in docs[7])\n",
    "print S_test[7]"
   ]
  },
  {
   "cell_type": "markdown",
   "metadata": {},
   "source": [
    "## (f): Train and evaluate your model\n",
    "\n",
    "When you're able to pass the gradient check, let's run our model on some real language!\n",
    "\n",
    "You should randomly initialize the word vectors as Gaussian noise, i.e. $L_{ij} \\sim \\mathit{N}(0,0.1)$ and $U_{ij} \\sim \\mathit{N}(0,0.1)$; the function `random.randn` may be helpful here.\n",
    "\n",
    "As in Part 1, you should tune hyperparameters to get a good model."
   ]
  },
  {
   "cell_type": "code",
   "execution_count": 181,
   "metadata": {
    "collapsed": false
   },
   "outputs": [],
   "source": [
    "# did not attempt any tuning here...just did straight sgd\n",
    "\n",
    "hdim = 100 # dimension of hidden layer = dimension of word vectors\n",
    "random.seed(10)\n",
    "L0 = zeros((vocabsize, hdim)) # replace with random init, \n",
    "                              # or do in RNNLM.__init__()\n",
    "# test parameters; you probably want to change these\n",
    "model = RNNLM(L0, U0 = L0, alpha=0.05, rseed=10, bptt=3)\n",
    "\n",
    "# Gradient check is going to take a *long* time here\n",
    "# since it's quadratic-time in the number of parameters.\n",
    "# run at your own risk... (but do check this!)\n",
    "#model.grad_check(array([1,2,3]), array([2,3,4]))"
   ]
  },
  {
   "cell_type": "code",
   "execution_count": 182,
   "metadata": {
    "collapsed": false,
    "scrolled": true
   },
   "outputs": [
    {
     "name": "stdout",
     "output_type": "stream",
     "text": [
      "training set size: 56522\n",
      "Begin SGD...\n",
      "  Seen 0 in 0.00 s\n",
      "  [0]: mean loss 8.76251\n",
      "  Seen 1000 in 361.53 s\n",
      "  Seen 2000 in 370.82 s\n",
      "  Seen 3000 in 380.41 s\n",
      "  Seen 4000 in 389.99 s\n",
      "  Seen 5000 in 399.37 s\n",
      "  Seen 6000 in 408.84 s\n",
      "  Seen 7000 in 418.54 s\n",
      "  Seen 8000 in 427.91 s\n",
      "  Seen 9000 in 437.29 s\n",
      "  Seen 10000 in 446.85 s\n",
      "  [10000]: mean loss 6.10295\n",
      "  Seen 11000 in 805.74 s\n",
      "  Seen 12000 in 815.56 s\n",
      "  Seen 13000 in 825.13 s\n",
      "  Seen 14000 in 834.68 s\n",
      "  Seen 15000 in 844.09 s\n",
      "  Seen 16000 in 853.37 s\n",
      "  Seen 17000 in 862.89 s\n",
      "  Seen 18000 in 872.43 s\n",
      "  Seen 19000 in 881.63 s\n",
      "  Seen 20000 in 890.80 s\n",
      "  [20000]: mean loss 5.84463\n",
      "  Seen 21000 in 1251.06 s\n",
      "  Seen 22000 in 1260.70 s\n",
      "  Seen 23000 in 1270.30 s\n",
      "  Seen 24000 in 1279.89 s\n",
      "  Seen 25000 in 1289.33 s\n",
      "  Seen 26000 in 1298.68 s\n",
      "  Seen 27000 in 1308.19 s\n",
      "  Seen 28000 in 1317.35 s\n",
      "  Seen 29000 in 1326.72 s\n",
      "  Seen 30000 in 1336.04 s\n",
      "  [30000]: mean loss 5.71009\n",
      "  Seen 31000 in 1704.55 s\n",
      "  Seen 32000 in 1714.00 s\n",
      "  Seen 33000 in 1723.21 s\n",
      "  Seen 34000 in 1732.31 s\n",
      "  Seen 35000 in 1741.60 s\n",
      "  Seen 36000 in 1751.04 s\n",
      "  Seen 37000 in 1760.15 s\n",
      "  Seen 38000 in 1769.23 s\n",
      "  Seen 39000 in 1778.67 s\n",
      "  Seen 40000 in 1787.95 s\n",
      "  [40000]: mean loss 5.71522\n",
      "  Seen 41000 in 2159.45 s\n",
      "  Seen 42000 in 2168.43 s\n",
      "  Seen 43000 in 2177.41 s\n",
      "  Seen 44000 in 2186.53 s\n",
      "  Seen 45000 in 2195.55 s\n",
      "  Seen 46000 in 2204.80 s\n",
      "  Seen 47000 in 2214.56 s\n",
      "  Seen 48000 in 2223.44 s\n",
      "  Seen 49000 in 2232.71 s\n",
      "  Seen 50000 in 2242.10 s\n",
      "  [50000]: mean loss 5.78605\n",
      "  Seen 51000 in 2615.33 s\n",
      "  Seen 52000 in 2625.05 s\n",
      "  Seen 53000 in 2634.31 s\n",
      "  Seen 54000 in 2643.79 s\n",
      "  Seen 55000 in 2652.76 s\n",
      "  Seen 56000 in 2662.22 s\n",
      "  [56522]: mean loss 5.78023\n",
      "SGD complete: 56522 examples in 3030.52 seconds.\n"
     ]
    },
    {
     "data": {
      "text/plain": [
       "[(0, 8.7625116300303461),\n",
       " (10000, 6.1029471367958568),\n",
       " (20000, 5.8446251618733802),\n",
       " (30000, 5.7100853024717093),\n",
       " (40000, 5.7152215916318365),\n",
       " (50000, 5.7860493968764697),\n",
       " (56522, 5.7802327428745981)]"
      ]
     },
     "execution_count": 182,
     "metadata": {},
     "output_type": "execute_result"
    }
   ],
   "source": [
    "#### YOUR CODE HERE ####\n",
    "\n",
    "##\n",
    "# Pare down to a smaller dataset, for speed\n",
    "# (optional - recommended to not do this for your final model)\n",
    "ntrain = len(Y_train)\n",
    "X = X_train[:ntrain]\n",
    "Y = Y_train[:ntrain]\n",
    "\n",
    "print 'training set size: %d' % ntrain\n",
    "model.train_sgd(X=X, y=Y, printevery=1000, costevery=10000)\n",
    "\n",
    "#### END YOUR CODE ####"
   ]
  },
  {
   "cell_type": "code",
   "execution_count": 183,
   "metadata": {
    "collapsed": false
   },
   "outputs": [
    {
     "name": "stdout",
     "output_type": "stream",
     "text": [
      "5.80510543448\n"
     ]
    }
   ],
   "source": [
    "## Evaluate cross-entropy loss on the dev set,\n",
    "## then convert to perplexity for your writeup\n",
    "dev_loss = model.compute_mean_loss(X_dev, Y_dev)\n",
    "print dev_loss"
   ]
  },
  {
   "cell_type": "markdown",
   "metadata": {},
   "source": [
    "The performance of the model is skewed somewhat by the large number of `UUUNKKK` tokens; if these are 1/6 of the dataset, then that's a sizeable fraction that we're just waving our hands at. Naively, our model gets credit for these that's not really deserved; the formula below roughly removes this contribution from the average loss. Don't worry about how it's derived, but do report both scores - it helps us compare across models with different vocabulary sizes."
   ]
  },
  {
   "cell_type": "code",
   "execution_count": 184,
   "metadata": {
    "collapsed": false
   },
   "outputs": [
    {
     "name": "stdout",
     "output_type": "stream",
     "text": [
      "Unadjusted: 331.990\n",
      "Adjusted for missing vocab: 707.372\n"
     ]
    }
   ],
   "source": [
    "## DO NOT CHANGE THIS CELL ##\n",
    "# Report your numbers, after computing dev_loss above.\n",
    "def adjust_loss(loss, funk, q, mode='basic'):\n",
    "    if mode == 'basic':\n",
    "        # remove freebies only: score if had no UUUNKKK\n",
    "        return (loss + funk*log(funk))/(1 - funk)\n",
    "    else:\n",
    "        # remove freebies, replace with best prediction on remaining\n",
    "        return loss + funk*log(funk) - funk*log(q)\n",
    "# q = best unigram frequency from omitted vocab\n",
    "# this is the best expected loss out of that set\n",
    "q = vocab.freq[vocabsize] / sum(vocab.freq[vocabsize:])\n",
    "print \"Unadjusted: %.03f\" % exp(dev_loss)\n",
    "print \"Adjusted for missing vocab: %.03f\" % exp(adjust_loss(dev_loss, fraction_lost, q))"
   ]
  },
  {
   "cell_type": "markdown",
   "metadata": {},
   "source": [
    "### Save Model Parameters"
   ]
  },
  {
   "cell_type": "code",
   "execution_count": 185,
   "metadata": {
    "collapsed": false
   },
   "outputs": [],
   "source": [
    "##\n",
    "# Save to .npy files; should only be a few MB total\n",
    "assert(min(model.sparams.L.shape) <= 100) # don't be too big\n",
    "assert(max(model.sparams.L.shape) <= 5000) # don't be too big\n",
    "save(\"rnnlm.L.npy\", model.sparams.L)\n",
    "save(\"rnnlm.U.npy\", model.params.U)\n",
    "save(\"rnnlm.H.npy\", model.params.H)"
   ]
  },
  {
   "cell_type": "markdown",
   "metadata": {},
   "source": [
    "## (g): Generating Data\n",
    "\n",
    "Once you've trained your model to satisfaction, let's use it to generate some sentences!\n",
    "\n",
    "Implement the `generate_sequence` function in `rnnlm.py`, and call it below."
   ]
  },
  {
   "cell_type": "code",
   "execution_count": 187,
   "metadata": {
    "collapsed": false
   },
   "outputs": [
    {
     "name": "stdout",
     "output_type": "stream",
     "text": [
      "160.913082386\n",
      "<s> right </s> customer . </s> . </s> . </s> . </s> . </s> . </s> bills . </s> . </s> . </s> UUUNKKK . </s> . </s> . </s> UUUNKKK UUUNKKK UUUNKKK . </s> . </s> . </s> . </s> options UUUNKKK . </s> long-term UUUNKKK . </s> . </s> . </s> up . </s> . </s> . </s> . </s> . </s> . </s> , UUUNKKK said . </s> event profit . </s> UUUNKKK UUUNKKK . </s> . </s> hotel UUUNKKK position </s> law . </s> UUUNKKK and UUUNKKK . </s> . </s> available . </s> . </s> . </s>\n"
     ]
    }
   ],
   "source": [
    "def seq_to_words(seq):\n",
    "    return [num_to_word[s] for s in seq]\n",
    "    \n",
    "seq, J = model.generate_sequence(word_to_num[\"<s>\"], \n",
    "                                 word_to_num[\"</s>\"], \n",
    "                                 maxlen=100)\n",
    "print J\n",
    "# print seq\n",
    "print \" \".join(seq_to_words(seq))"
   ]
  },
  {
   "cell_type": "markdown",
   "metadata": {},
   "source": [
    "**BONUS:** Use the unigram distribution given in the `vocab` table to fill in any `UUUNKKK` tokens in your generated sequences with words that we omitted from the vocabulary. You'll want to use `list(vocab.index)` to get a list of words, and `vocab.freq` to get a list of corresponding frequencies."
   ]
  },
  {
   "cell_type": "code",
   "execution_count": null,
   "metadata": {
    "collapsed": false
   },
   "outputs": [],
   "source": [
    "# Replace UUUNKKK with a random unigram,\n",
    "# drawn from vocab that we skipped\n",
    "from nn.math import MultinomialSampler, multinomial_sample\n",
    "def fill_unknowns(words):\n",
    "    #### YOUR CODE HERE ####\n",
    "    ret = words # do nothing; replace this\n",
    "    \n",
    "\n",
    "    #### END YOUR CODE ####\n",
    "    return ret\n",
    "    \n",
    "print \" \".join(fill_unknowns(seq_to_words(seq)))"
   ]
  },
  {
   "cell_type": "code",
   "execution_count": null,
   "metadata": {
    "collapsed": true
   },
   "outputs": [],
   "source": []
  }
 ],
 "metadata": {
  "kernelspec": {
   "display_name": "Python 2",
   "language": "python",
   "name": "python2"
  },
  "language_info": {
   "codemirror_mode": {
    "name": "ipython",
    "version": 2
   },
   "file_extension": ".py",
   "mimetype": "text/x-python",
   "name": "python",
   "nbconvert_exporter": "python",
   "pygments_lexer": "ipython2",
   "version": "2.7.10"
  }
 },
 "nbformat": 4,
 "nbformat_minor": 0
}
